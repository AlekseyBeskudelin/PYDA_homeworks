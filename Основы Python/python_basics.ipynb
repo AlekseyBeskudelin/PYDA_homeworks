{
 "cells": [
  {
   "cell_type": "markdown",
   "metadata": {},
   "source": [
    "**Задание 1**. Даны 2 строки: *long_phrase* и *short_phrase*. \n",
    "Напишите код, который проверяет действительно ли длинная фраза *long_phrase* длиннее короткой *short_phrase*. И выводит *True* или *False* в зависимости от результата сравнения."
   ]
  },
  {
   "cell_type": "code",
   "execution_count": null,
   "metadata": {},
   "outputs": [],
   "source": [
    "long_phrase = 'Насколько проще было бы писать программы, если бы не заказчики'\n",
    "short_phrase = '640Кб должно хватить для любых задач. Билл Гейтс (по легенде)'"
   ]
  },
  {
   "cell_type": "code",
   "execution_count": 2,
   "metadata": {},
   "outputs": [
    {
     "data": {
      "text/plain": [
       "True"
      ]
     },
     "execution_count": 2,
     "metadata": {},
     "output_type": "execute_result"
    }
   ],
   "source": [
    "long_phrase = 'Насколько проще было бы писать программы, если бы не заказчики'\n",
    "short_phrase = '640Кб должно хватить для любых задач. Билл Гейтс (по легенде)'\n",
    "len(long_phrase) > len(short_phrase)"
   ]
  },
  {
   "cell_type": "markdown",
   "metadata": {},
   "source": [
    "**Задание 2**. Дано значение объема файла в байтах (*в мегабайте 2^20 байт*). Напишите перевод этого значения в мегабайты в формате: \"*Объем файла равен 213.68Mb*\"."
   ]
  },
  {
   "cell_type": "code",
   "execution_count": 2,
   "metadata": {},
   "outputs": [
    {
     "name": "stdout",
     "output_type": "stream",
     "text": [
      "Объём файла равен 213.68 Mb\n"
     ]
    }
   ],
   "source": [
    "vol_file = 224059719\n",
    "bite_in_mb = 2**20\n",
    "print(\"Объём файла равен\", round(vol_file/bite_in_mb, 2),\"Mb\")\n",
    "\n",
    "\n",
    "\n",
    "\n",
    "\n",
    "\n",
    "\n"
   ]
  },
  {
   "cell_type": "markdown",
   "metadata": {},
   "source": [
    "**Задание 3**. Разработать приложение для определения знака зодиака по дате рождения. Пример:\n",
    "\n",
    "Введите месяц: март\n",
    "\n",
    "Введите число: 6\n",
    "\n",
    "Вывод:Рыбы"
   ]
  },
  {
   "cell_type": "code",
   "execution_count": 3,
   "metadata": {},
   "outputs": [
    {
     "name": "stdout",
     "output_type": "stream",
     "text": [
      "Введите месяц:6\n",
      "Введите число:11\n",
      "Близнецы\n"
     ]
    }
   ],
   "source": [
    "month = int(input(\"Введите месяц:\", ))\n",
    "data = int(input(\"Введите число:\", ))\n",
    "if month == 1 and data < 23:\n",
    "    print(\"Козерог\")\n",
    "elif month == 1 and data >= 23:\n",
    "    print(\"Водолей\")\n",
    "elif month == 2 and data < 23:\n",
    "    print(\"Водолей\")\n",
    "elif month == 2 and data >= 23:\n",
    "    print(\"Рыбы\")\n",
    "elif month == 3 and data < 23:\n",
    "    print(\"Рыбы\")\n",
    "elif month == 3 and data >= 23:\n",
    "    print(\"Овен\")\n",
    "elif month == 4 and data < 23:\n",
    "    print(\"Овен\")\n",
    "elif month == 4 and data >= 23:\n",
    "    print(\"Телец\")\n",
    "elif month == 5 and data < 23:\n",
    "    print(\"Телец\")\n",
    "elif month == 5 and data >= 23:\n",
    "    print(\"Близнецы\")\n",
    "elif month == 6 and data < 23:\n",
    "    print(\"Близнецы\")\n",
    "elif month == 6 and data >= 23:\n",
    "    print(\"Рак\")\n",
    "elif month == 7 and data < 23:\n",
    "    print(\"Рак\")\n",
    "elif month == 7 and data >= 23:\n",
    "    print(\"Лев\")\n",
    "elif month == 8 and data < 23:\n",
    "    print(\"Лев\")\n",
    "elif month == 8 and data >= 23:\n",
    "    print(\"Дева\")\n",
    "elif month == 9 and data < 23:\n",
    "    print(\"Дева\")\n",
    "elif month == 9 and data >= 23:\n",
    "    print(\"Весы\")\n",
    "elif month == 10 and data < 23:\n",
    "    print(\"Весы\")\n",
    "elif month == 10 and data >= 23:\n",
    "    print(\"Скорпион\")\n",
    "elif month == 11 and data < 23:\n",
    "    print(\"Скорпион\")\n",
    "elif month == 11 and data >= 23:\n",
    "    print(\"Стрелец\")\n",
    "elif month == 12 and data < 23:\n",
    "    print(\"Стрелец\")\n",
    "elif month == 12 and data >= 23:\n",
    "    print(\"Козерог\")\n",
    "\n",
    "\n",
    "\n",
    "\n"
   ]
  },
  {
   "cell_type": "markdown",
   "metadata": {},
   "source": [
    "**Задание 4**. Нужно разработать приложение для финансового планирования.\n",
    "Приложение учитывает сколько уходит на ипотеку, \"на жизнь\" и сколько нужно отложить на пенсию.\n",
    "Пользователь вводит:\n",
    "- заработанную плату в месяц.\n",
    "- сколько процентов от ЗП уходит на ипотеку.\n",
    "- сколько процентов от ЗП уходит \"на жизнь\".\n",
    "- сколько раз приходит премия в год.\n",
    "\n",
    "Остальная часть заработанной платы откладывается на пенсию.\n",
    "\n",
    "Также пользователю приходит премия в размере зарплаты, от которой половина уходит на отпуск, а вторая половина откладывается.\n",
    "\n",
    "Программа должна учитывать сколько премий было в год.\n",
    "\n",
    "Нужно вывести сколько денег тратит пользователь на ипотеку и сколько он накопит за год.\n",
    "\n",
    "Пример:\n",
    "\n",
    "Введите заработанную плату в месяц: 100000\n",
    "\n",
    "Введите сколько процентов уходит на ипотеку: 30\n",
    "\n",
    "Введите сколько процентов уходит на жизнь: 50\n",
    "\n",
    "Введите количество премий за год: 2\n",
    "\n",
    "Вывод:\n",
    "На ипотеку было потрачено: 360000 рублей\n",
    "Было накоплено: 340000 рублей"
   ]
  },
  {
   "cell_type": "code",
   "execution_count": 5,
   "metadata": {},
   "outputs": [
    {
     "name": "stdout",
     "output_type": "stream",
     "text": [
      "Введите заработанную плату в месяц: 100000\n",
      "Введите сколько процентов уходит на ипотеку: 30\n",
      "Введите сколько процентов уходит на жизнь: 50\n",
      "Введите количество премий за год: 2\n",
      "На ипотеку было потрачено:  360000 рублей Было накоплено:  340000 рублей\n"
     ]
    }
   ],
   "source": [
    "salary = int(input(\"Введите заработанную плату в месяц: \", ))\n",
    "ipotec = int(input(\"Введите сколько процентов уходит на ипотеку: \" , ))\n",
    "for_life = int(input(\"Введите сколько процентов уходит на жизнь: \" , ))\n",
    "benefit_time = int(input(\"Введите количество премий за год: \" , ))\n",
    "to_ipotec = int(12*salary*ipotec/100)\n",
    "collected = int(12*salary-(12*salary*ipotec/100)-(12*salary*for_life/100)+benefit_time*salary/2)\n",
    "print(\"На ипотеку было потрачено: \",to_ipotec, \"рублей\", \"Было накоплено: \",collected, \"рублей\")\n"
   ]
  },
  {
   "cell_type": "code",
   "execution_count": null,
   "metadata": {},
   "outputs": [],
   "source": []
  }
 ],
 "metadata": {
  "kernelspec": {
   "display_name": "Python 3",
   "language": "python",
   "name": "python3"
  },
  "language_info": {
   "codemirror_mode": {
    "name": "ipython",
    "version": 3
   },
   "file_extension": ".py",
   "mimetype": "text/x-python",
   "name": "python",
   "nbconvert_exporter": "python",
   "pygments_lexer": "ipython3",
   "version": "3.7.6"
  }
 },
 "nbformat": 4,
 "nbformat_minor": 2
}
